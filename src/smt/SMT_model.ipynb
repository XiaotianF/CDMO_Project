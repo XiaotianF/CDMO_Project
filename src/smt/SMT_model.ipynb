{
 "cells": [
  {
   "cell_type": "code",
   "execution_count": 2,
   "id": "2e433e3d",
   "metadata": {},
   "outputs": [
    {
     "data": {
      "text/plain": [
       "'\\n\\nXiaotian Fan\\n0000973864\\n\\n'"
      ]
     },
     "execution_count": 2,
     "metadata": {},
     "output_type": "execute_result"
    }
   ],
   "source": [
    "'''\n",
    "\n",
    "Xiaotian Fan\n",
    "0000973864\n",
    "\n",
    "'''"
   ]
  },
  {
   "cell_type": "code",
   "execution_count": 16,
   "id": "ed6a757b",
   "metadata": {},
   "outputs": [
    {
     "ename": "SyntaxError",
     "evalue": "invalid syntax (3277983675.py, line 2)",
     "output_type": "error",
     "traceback": [
      "\u001b[1;36m  Cell \u001b[1;32mIn[16], line 2\u001b[1;36m\u001b[0m\n\u001b[1;33m    pip install cv2\u001b[0m\n\u001b[1;37m        ^\u001b[0m\n\u001b[1;31mSyntaxError\u001b[0m\u001b[1;31m:\u001b[0m invalid syntax\n"
     ]
    }
   ],
   "source": [
    "#pip install z3"
   ]
  },
  {
   "cell_type": "code",
   "execution_count": 2,
   "id": "5e27f897",
   "metadata": {},
   "outputs": [],
   "source": [
    "from z3 import*\n",
    "import numpy as np\n",
    "import time\n",
    "import os"
   ]
  },
  {
   "cell_type": "code",
   "execution_count": 3,
   "id": "53ab1937",
   "metadata": {},
   "outputs": [
    {
     "name": "stdout",
     "output_type": "stream",
     "text": [
      "C:\\Users\\Lenovo\\Desktop\\CDMO_Project-main\\src\\smt\n"
     ]
    }
   ],
   "source": [
    "curr_path = os.getcwd()\n",
    "print (curr_path)"
   ]
  },
  {
   "cell_type": "code",
   "execution_count": 20,
   "id": "1123fd94",
   "metadata": {},
   "outputs": [
    {
     "name": "stdout",
     "output_type": "stream",
     "text": [
      "8\n",
      "4\n",
      "3 3\n",
      "3 5\n",
      "5 3\n",
      "5 5\n",
      "\n"
     ]
    },
    {
     "ename": "NotADirectoryError",
     "evalue": "[WinError 267] 目录名称无效。: 'instances\\\\ins-1.txt'",
     "output_type": "error",
     "traceback": [
      "\u001b[1;31m---------------------------------------------------------------------------\u001b[0m",
      "\u001b[1;31mNotADirectoryError\u001b[0m                        Traceback (most recent call last)",
      "Cell \u001b[1;32mIn[20], line 6\u001b[0m\n\u001b[0;32m      4\u001b[0m     message \u001b[38;5;241m=\u001b[39m f\u001b[38;5;241m.\u001b[39mread()\n\u001b[0;32m      5\u001b[0m     \u001b[38;5;28mprint\u001b[39m(message)\n\u001b[1;32m----> 6\u001b[0m file_list \u001b[38;5;241m=\u001b[39m \u001b[43mos\u001b[49m\u001b[38;5;241;43m.\u001b[39;49m\u001b[43mlistdir\u001b[49m\u001b[43m(\u001b[49m\u001b[43mpath\u001b[49m\u001b[43m)\u001b[49m\n\u001b[0;32m      7\u001b[0m \u001b[38;5;28mprint\u001b[39m(file_list)\n\u001b[0;32m      9\u001b[0m \u001b[38;5;28;01mwith\u001b[39;00m \u001b[38;5;28mopen\u001b[39m(os\u001b[38;5;241m.\u001b[39mpath\u001b[38;5;241m.\u001b[39mjoin(file_list,\u001b[38;5;124m\"\u001b[39m\u001b[38;5;124mins-1.txt\u001b[39m\u001b[38;5;124m\"\u001b[39m), \u001b[38;5;124m'\u001b[39m\u001b[38;5;124mr\u001b[39m\u001b[38;5;124m'\u001b[39m) \u001b[38;5;28;01mas\u001b[39;00m f:\n",
      "\u001b[1;31mNotADirectoryError\u001b[0m: [WinError 267] 目录名称无效。: 'instances\\\\ins-1.txt'"
     ]
    }
   ],
   "source": [
    "#path = \"/.instances/\"\n",
    "#path = r'instances\\ins-1.txt'\n",
    "with open(\"instances\\\\ins-1.txt\", \"r\") as f:\n",
    "    message = f.read()\n",
    "    print(message)\n",
    "file_list = os.listdir(path)\n",
    "print(file_list)\n",
    "\n",
    "with open(os.path.join(file_list,\"ins-1.txt\"), 'r') as f:\n",
    "    width = int(f.readline())\n",
    "    n_circuits = int(f.readline())\n",
    "    w_size = [int(i) for i in f.readline().split()]\n",
    "    l_size = [int(i) for i in f.readline().split()]\n",
    "print(width)"
   ]
  },
  {
   "cell_type": "code",
   "execution_count": 54,
   "id": "544c1117",
   "metadata": {},
   "outputs": [
    {
     "ename": "NameError",
     "evalue": "name 'length' is not defined",
     "output_type": "error",
     "traceback": [
      "\u001b[1;31m---------------------------------------------------------------------------\u001b[0m",
      "\u001b[1;31mNameError\u001b[0m                                 Traceback (most recent call last)",
      "Cell \u001b[1;32mIn[54], line 87\u001b[0m\n\u001b[0;32m     85\u001b[0m         width, n_circuits, w_size, l_size \u001b[38;5;241m=\u001b[39m read_input(input_folder \u001b[38;5;241m+\u001b[39m \u001b[38;5;124m\"\u001b[39m\u001b[38;5;124m/\u001b[39m\u001b[38;5;124m\"\u001b[39m \u001b[38;5;241m+\u001b[39m input_file)\n\u001b[0;32m     86\u001b[0m \u001b[38;5;66;03m#        solver, length, x_pos, y_pos = creat_solver(n_circuits, width, w_size, l_size)\u001b[39;00m\n\u001b[1;32m---> 87\u001b[0m         result \u001b[38;5;241m=\u001b[39m solve_and_output(width, \u001b[43mlength\u001b[49m, x_pos, y_pos)\n\u001b[0;32m     89\u001b[0m         \u001b[38;5;28;01mif\u001b[39;00m result \u001b[38;5;129;01mand\u001b[39;00m result[\u001b[38;5;241m0\u001b[39m] \u001b[38;5;241m!=\u001b[39m \u001b[38;5;124m\"\u001b[39m\u001b[38;5;124mTimeout\u001b[39m\u001b[38;5;124m\"\u001b[39m:\n\u001b[0;32m     90\u001b[0m             output_file \u001b[38;5;241m=\u001b[39m input_file\u001b[38;5;241m.\u001b[39mreplace(\u001b[38;5;124m\"\u001b[39m\u001b[38;5;124m.txt\u001b[39m\u001b[38;5;124m\"\u001b[39m, \u001b[38;5;124m\"\u001b[39m\u001b[38;5;124m_output.txt\u001b[39m\u001b[38;5;124m\"\u001b[39m)\n",
      "\u001b[1;31mNameError\u001b[0m: name 'length' is not defined"
     ]
    }
   ],
   "source": [
    "def read_input(file_path):\n",
    "    '''\n",
    "    Read the data from the folder\n",
    "    \n",
    "    '''\n",
    "    with open(file_path, 'r') as f:\n",
    "        width = int(f.readline())\n",
    "        n_circuits = int(f.readline())\n",
    "        w_size = [int(i) for i in f.readline().split()]\n",
    "        l_size = [int(i) for i in f.readline().split()]\n",
    "    return width, n_circuits, w_size, l_size\n",
    "\n",
    "# Creat Z3 solver\n",
    "def creat_solver(width, n_circuits, w_size, l_size):\n",
    "    \n",
    "    '''\n",
    "    Set the constraints\n",
    "    \n",
    "    \n",
    "    \n",
    "    '''\n",
    "    solver = Solver()\n",
    "    \n",
    "    #creat varibales\n",
    "#    R = [Int(f'R_{i}') for i in range(1, n_circuits + 1)]\n",
    "    x_pos = [Int(f'x_{i}') for i in range(1, n_circuits + 1)]\n",
    "    y_pos = [Int(f'y_{i}') for i in range(1, n_circuits + 1)]\n",
    "    \n",
    "    # No-overlap constraint as the main constaint\n",
    "    for i in range(n_circuits):\n",
    "        for j in range(n_circuits): \n",
    "            if i!=j:\n",
    "                solver.add(\n",
    "                    Or(\n",
    "                        x_pos[i] + w_size[i] <= y_pos[j],\n",
    "                        y_pos[j] + w_size[i] <= x_pos[i],\n",
    "                        y_pos[i] + l_size[i] <= y_pos[j],\n",
    "                        y_pos[j] + l_size[i] <= y_pos[i]\n",
    "                    )\n",
    "                )\n",
    "\n",
    "    # Make sure every circuit is included inside the silicon plate\n",
    "    for i in range(n_circuits):\n",
    "        solver.add(And(0 <= x_pos[i], x_pos[i] <= wdith))\n",
    "        solver.add(And(0 <= y_pos[i], y_pos[i] <= sum(l_size)))\n",
    "        \n",
    "    # Objective function\n",
    "    length = Int('length')\n",
    "    solver.add(length == max([y_pos[i] + l_size[i] for i in range(n_circuits)]))\n",
    "    \n",
    "    return solver, length, x_pos, y_pos\n",
    "\n",
    "def solve_and_output(width, length, x_pos, y_pos):\n",
    "    \n",
    "    start_time = time.time() # start time\n",
    "    \n",
    "    if solver.check() == sat:\n",
    "        end_time = time.time() #end time\n",
    "        elapsed_time = end_time  #culating the time cost\n",
    "        \n",
    "        if elapsed_time <= 300:\n",
    "            model = solver.model()\n",
    "            result = []\n",
    "            for i in range(n_circuits):\n",
    "                result.append((model[x_pos[i]].as_long(), model[y_pos[i]].as_long()))\n",
    "            result.append(model[length].as_long())\n",
    "            return result\n",
    "        else:\n",
    "            returm [\"Time out\"]\n",
    "    else:\n",
    "        return []\n",
    "\n",
    "# Main function\n",
    "if __name__ == \"__main__\":\n",
    "    \n",
    "    # Path to the input file\n",
    "    input_folder = r'C:\\Users\\Lenovo\\Desktop\\CDMO_Project-main\\src\\smt\\instances'\n",
    "    output_folder = \"/.out/\"  # Replace with the actual output folder path   \n",
    "    \n",
    "    input_files = [\"ins-2.txt\",\"ins-3.txt\"]  # Replace with the actual input file path\n",
    "\n",
    "\n",
    "\n",
    "    for input_file in input_files:\n",
    "        width, n_circuits, w_size, l_size = read_input(input_folder + \"/\" + input_file)\n",
    "#        solver, length, x_pos, y_pos = creat_solver(n_circuits, width, w_size, l_size)\n",
    "        result = solve_and_output(width, length, x_pos, y_pos)\n",
    "\n",
    "        if result and result[0] != \"Timeout\":\n",
    "            output_file = input_file.replace(\".txt\", \"_output.txt\")\n",
    "            with open(output_folder + \"/\" + output_file, 'w') as f:\n",
    "                f.write(f\"{width}\\n{n_circuits}\\n\")\n",
    "                for i in range(n_circuits):\n",
    "                    f.write(f\"{w_size[i]} {l_size[i]}\\n\")\n",
    "                for i, (x, y) in enumerate(result[:-1]):\n",
    "                    f.write(f\"{x} {y}\\n\")\n",
    "                f.write(f\"{result[-1]}\\n\")\n",
    "            print(f\"Solution for {input_file} saved to {output_file}\")\n",
    "        elif result and result[0] == \"Timeout\":\n",
    "            print(f\"Timeout for {input_file}\")\n",
    "        else:\n",
    "            print(f\"No solution found for {input_file}\")\n"
   ]
  },
  {
   "cell_type": "code",
   "execution_count": null,
   "id": "344d8744",
   "metadata": {},
   "outputs": [],
   "source": []
  }
 ],
 "metadata": {
  "kernelspec": {
   "display_name": "Python 3 (ipykernel)",
   "language": "python",
   "name": "python3"
  },
  "language_info": {
   "codemirror_mode": {
    "name": "ipython",
    "version": 3
   },
   "file_extension": ".py",
   "mimetype": "text/x-python",
   "name": "python",
   "nbconvert_exporter": "python",
   "pygments_lexer": "ipython3",
   "version": "3.8.17"
  }
 },
 "nbformat": 4,
 "nbformat_minor": 5
}
